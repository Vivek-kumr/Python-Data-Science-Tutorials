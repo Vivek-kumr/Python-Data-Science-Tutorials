{
  "nbformat": 4,
  "nbformat_minor": 0,
  "metadata": {
    "kernelspec": {
      "display_name": "Python 3",
      "language": "python",
      "name": "python3"
    },
    "language_info": {
      "codemirror_mode": {
        "name": "ipython",
        "version": 3
      },
      "file_extension": ".py",
      "mimetype": "text/x-python",
      "name": "python",
      "nbconvert_exporter": "python",
      "pygments_lexer": "ipython3",
      "version": "3.6.7"
    },
    "colab": {
      "name": "class_exercises.ipynb",
      "provenance": [],
      "collapsed_sections": []
    }
  },
  "cells": [
    {
      "cell_type": "markdown",
      "metadata": {
        "id": "SRJnVC9F4Tc9",
        "colab_type": "text"
      },
      "source": [
        "# Class Exercises"
      ]
    },
    {
      "cell_type": "markdown",
      "metadata": {
        "id": "3xE0d8rm4Te6",
        "colab_type": "text"
      },
      "source": [
        "#### Q1"
      ]
    },
    {
      "cell_type": "markdown",
      "metadata": {
        "id": "09jwjU894Te8",
        "colab_type": "text"
      },
      "source": [
        " Write a program to store birthdays of people and has operations to <br><br>\n",
        "\n",
        "\n",
        "(a) Insert people<br>(b) Delete people<br> (c) Modify b'day of a person<br> (d) \n",
        "View b'days of all people<br> (e) View b'day of a given person<br> (f) Get \n",
        "names of people with same b'day<br>"
      ]
    },
    {
      "cell_type": "code",
      "metadata": {
        "id": "-209jL0xRsE8",
        "colab_type": "code",
        "colab": {}
      },
      "source": [
        "bday ={'A':'1/1/1997','B':'1/1/1997','C':'5/10/1998','D':'5/10/1998'}"
      ],
      "execution_count": 0,
      "outputs": []
    },
    {
      "cell_type": "markdown",
      "metadata": {
        "id": "OxiUXRVaECJD",
        "colab_type": "text"
      },
      "source": [
        "#### **Hints**"
      ]
    },
    {
      "cell_type": "markdown",
      "metadata": {
        "id": "6koWeklb7vfN",
        "colab_type": "text"
      },
      "source": [
        "1.   Dictionaries\n",
        "2.   key, value\n",
        "\n",
        "\n"
      ]
    },
    {
      "cell_type": "markdown",
      "metadata": {
        "id": "NmiYz4vn4TdD",
        "colab_type": "text"
      },
      "source": [
        "### Mutable and Immutable objects\n",
        "As we know that mutable objects are those which allow you to change their content, and immutable don't allow.\n",
        "\n",
        "**mutable types are:** list, dict, set <br>\n",
        "**immutable types are:** int, float, string, tuple"
      ]
    },
    {
      "cell_type": "code",
      "metadata": {
        "id": "FBtbM-034TdF",
        "colab_type": "code",
        "outputId": "b1ad50ca-71bd-472c-c91c-def0fb0786e1",
        "colab": {
          "base_uri": "https://localhost:8080/",
          "height": 34
        }
      },
      "source": [
        "x = 5\n",
        "print(id(x))"
      ],
      "execution_count": 0,
      "outputs": [
        {
          "output_type": "stream",
          "text": [
            "10914624\n"
          ],
          "name": "stdout"
        }
      ]
    },
    {
      "cell_type": "code",
      "metadata": {
        "id": "YCtnKK5C4TdO",
        "colab_type": "code",
        "outputId": "b4a40328-fce6-4d1d-ced3-28e2920c040b",
        "colab": {
          "base_uri": "https://localhost:8080/",
          "height": 34
        }
      },
      "source": [
        "x = x + 1\n",
        "# Try printing id of x now\n",
        "# Should it change?\n",
        "print(id(x))"
      ],
      "execution_count": 0,
      "outputs": [
        {
          "output_type": "stream",
          "text": [
            "10914656\n"
          ],
          "name": "stdout"
        }
      ]
    },
    {
      "cell_type": "code",
      "metadata": {
        "id": "OtNzjaxT4TdU",
        "colab_type": "code",
        "outputId": "241e7ee1-af84-4a1e-842d-9d9c1f9e0417",
        "colab": {
          "base_uri": "https://localhost:8080/",
          "height": 34
        }
      },
      "source": [
        "l = [1,2,3]\n",
        "print(id(l))"
      ],
      "execution_count": 0,
      "outputs": [
        {
          "output_type": "stream",
          "text": [
            "139959395203208\n"
          ],
          "name": "stdout"
        }
      ]
    },
    {
      "cell_type": "code",
      "metadata": {
        "id": "p3cMRywa4Tdb",
        "colab_type": "code",
        "outputId": "5e50f242-36e5-45dc-fb79-31709c9a5d67",
        "colab": {
          "base_uri": "https://localhost:8080/",
          "height": 34
        }
      },
      "source": [
        "\n",
        "l.append(4)\n",
        "# Try printing id of l now\n",
        "# Should it change?\n",
        "# What's the difference from above example?\n",
        "print(id(l))"
      ],
      "execution_count": 0,
      "outputs": [
        {
          "output_type": "stream",
          "text": [
            "139959395203208\n"
          ],
          "name": "stdout"
        }
      ]
    },
    {
      "cell_type": "code",
      "metadata": {
        "id": "4-lXnI-Y4Tdj",
        "colab_type": "code",
        "outputId": "417bb7be-640f-4483-9c14-be174e29ca0a",
        "colab": {
          "base_uri": "https://localhost:8080/",
          "height": 51
        }
      },
      "source": [
        "# What do you expect?\n",
        "s1 = \"string\"\n",
        "s2 = s1\n",
        "# Try printing id's of s1 and s2\n",
        "print(s1, id(s1))\n",
        "print(s2, id(s2))"
      ],
      "execution_count": 0,
      "outputs": [
        {
          "output_type": "stream",
          "text": [
            "string 139959971594000\n",
            "string 139959971594000\n"
          ],
          "name": "stdout"
        }
      ]
    },
    {
      "cell_type": "code",
      "metadata": {
        "id": "NYfmcTHO4Tdq",
        "colab_type": "code",
        "outputId": "6253ee35-8beb-4e85-ce8c-2738aebbdd0f",
        "colab": {
          "base_uri": "https://localhost:8080/",
          "height": 51
        }
      },
      "source": [
        "# Try changing s2 and print id's of s1 and s2\n",
        "s2+='ggg'\n",
        "print(s1, id(s1))\n",
        "print(s2, id(s2))"
      ],
      "execution_count": 0,
      "outputs": [
        {
          "output_type": "stream",
          "text": [
            "string 139959971594000\n",
            "stringggg 139959895189808\n"
          ],
          "name": "stdout"
        }
      ]
    },
    {
      "cell_type": "code",
      "metadata": {
        "id": "cUvcmlhZ4Tdz",
        "colab_type": "code",
        "outputId": "bda5cace-768f-4aee-818d-a865135e82ce",
        "colab": {
          "base_uri": "https://localhost:8080/",
          "height": 51
        }
      },
      "source": [
        "# Should the behaviour be similar as above?\n",
        "l1 = ['This', 'is', 'a', 'list']\n",
        "l2 = l1\n",
        "print(l1, id(l1))\n",
        "print(l2, id(l2))"
      ],
      "execution_count": 0,
      "outputs": [
        {
          "output_type": "stream",
          "text": [
            "['This', 'is', 'a', 'list'] 139959403793928\n",
            "['This', 'is', 'a', 'list'] 139959403793928\n"
          ],
          "name": "stdout"
        }
      ]
    },
    {
      "cell_type": "code",
      "metadata": {
        "id": "eTo18Llz4Td7",
        "colab_type": "code",
        "outputId": "dbe31d88-2bee-456a-b2ba-e4db93f85735",
        "colab": {
          "base_uri": "https://localhost:8080/",
          "height": 51
        }
      },
      "source": [
        "\n",
        "# Try changing any element of the list and print id's of l1 and l2\n",
        "l2[3] = 'new list'\n",
        "print(l1, id(l1))\n",
        "print(l2, id(l2))"
      ],
      "execution_count": 0,
      "outputs": [
        {
          "output_type": "stream",
          "text": [
            "['This', 'is', 'a', 'new list'] 139959403793928\n",
            "['This', 'is', 'a', 'new list'] 139959403793928\n"
          ],
          "name": "stdout"
        }
      ]
    },
    {
      "cell_type": "markdown",
      "metadata": {
        "id": "IyHLeYUA4TeB",
        "colab_type": "text"
      },
      "source": [
        "###  With Functions"
      ]
    },
    {
      "cell_type": "code",
      "metadata": {
        "id": "9ZqBiKnR4TeD",
        "colab_type": "code",
        "colab": {}
      },
      "source": [
        "\n",
        "def f(s2):\n",
        "    # Here s2 is a string object with content 'python'\n",
        "    s2 = 'abc ' + s2\n",
        "    # Here s2 is a string object with content 'wtf python'\n",
        "    # Are the id's of this two object's same?"
      ],
      "execution_count": 0,
      "outputs": []
    },
    {
      "cell_type": "code",
      "metadata": {
        "id": "OSDCu3W84TeN",
        "colab_type": "code",
        "outputId": "d0f81505-758c-4653-f487-c48136c9bbb0",
        "colab": {
          "base_uri": "https://localhost:8080/",
          "height": 34
        }
      },
      "source": [
        "s1 = 'python'\n",
        "f(s1)\n",
        "# Will the value of s1 change?\n",
        "print(s1)"
      ],
      "execution_count": 0,
      "outputs": [
        {
          "output_type": "stream",
          "text": [
            "python\n"
          ],
          "name": "stdout"
        }
      ]
    },
    {
      "cell_type": "code",
      "metadata": {
        "id": "yg2AH13Q4TeU",
        "colab_type": "code",
        "colab": {}
      },
      "source": [
        "# Example 2\n",
        "def g(l2):\n",
        "    # Here l2 is a list object with content ['wednesday', 'thursday', 'friday']\n",
        "    l2.append('python')\n",
        "    print(id(l2))\n",
        "    # Here l2 is a list object with content ['wednesday', 'thursday', 'friday', 'python']\n",
        "    # Are the id's of the two objects same here?"
      ],
      "execution_count": 0,
      "outputs": []
    },
    {
      "cell_type": "code",
      "metadata": {
        "id": "jkLzOgh94TeZ",
        "colab_type": "code",
        "outputId": "b17459da-2161-4345-f6fd-e03544081959",
        "colab": {
          "base_uri": "https://localhost:8080/",
          "height": 51
        }
      },
      "source": [
        "l1 = ['wednesday', 'thursday', 'friday']\n",
        "g(l1)\n",
        "# Will the value of l1 change?\n",
        "print(id(l1))"
      ],
      "execution_count": 0,
      "outputs": [
        {
          "output_type": "stream",
          "text": [
            "139959394312968\n",
            "139959394312968\n"
          ],
          "name": "stdout"
        }
      ]
    },
    {
      "cell_type": "markdown",
      "metadata": {
        "id": "buTD1Zd2Ebxs",
        "colab_type": "text"
      },
      "source": [
        "#####  **Solution**<br>"
      ]
    },
    {
      "cell_type": "markdown",
      "metadata": {
        "id": "spYXi3Xs4Tek",
        "colab_type": "text"
      },
      "source": [
        "\n",
        "You called the function by passing s1 to it. Think of this as assigning s1 to s2, <br>\n",
        "`s2 = s1`<br>\n",
        "After this statement `id(s1) == id(s2)`. Both `s1` and `s2` are names of an string object with content `python`.<br>\n",
        "Now what happens after `s2 = 'wtf' + s2` is executed. Is s2 the same name of the same object or a different one.\n",
        "Recall that strings are immutable, which means that content of a string objects cannot be changed. So `s2` is now name of different object with value `wtf python`."
      ]
    },
    {
      "cell_type": "markdown",
      "metadata": {
        "id": "lCIqjM0cEniC",
        "colab_type": "text"
      },
      "source": [
        ""
      ]
    },
    {
      "cell_type": "code",
      "metadata": {
        "id": "aPCi1qww4Tem",
        "colab_type": "code",
        "colab": {}
      },
      "source": [
        "def h(l2):\n",
        "    l2 = ['new', 'list']\n",
        "    print(id(l2))"
      ],
      "execution_count": 0,
      "outputs": []
    },
    {
      "cell_type": "code",
      "metadata": {
        "id": "mLfhgNdj4Tet",
        "colab_type": "code",
        "outputId": "8c5182ca-4c36-4924-e012-ac13c70160ea",
        "colab": {
          "base_uri": "https://localhost:8080/",
          "height": 68
        }
      },
      "source": [
        "l1 = ['old', 'list']\n",
        "h(l1)\n",
        "print(id(l1))\n",
        "print(l1)\n",
        "# Will it change or not?\n",
        "# Try printing"
      ],
      "execution_count": 0,
      "outputs": [
        {
          "output_type": "stream",
          "text": [
            "139959394312328\n",
            "139959394983816\n",
            "['old', 'list']\n"
          ],
          "name": "stdout"
        }
      ]
    },
    {
      "cell_type": "markdown",
      "metadata": {
        "id": "y0XBCXpqEUBy",
        "colab_type": "text"
      },
      "source": [
        "#### **Solution**<br>"
      ]
    },
    {
      "cell_type": "markdown",
      "metadata": {
        "id": "7rfUcoKC4Te3",
        "colab_type": "text"
      },
      "source": [
        "\n",
        "Our strategy to understand this is the same, think of passing arguments as assignment statements.\n",
        "The important thing to understand is what if happening when `l2 = ['new', 'list']` gets executed.<br>\n",
        "Lists are mutable so change should be reflected in `l1`, so why it didn't?<br>\n",
        "Because we are not changing the content of the object. We can change content of a list, it's just that assigning `l2` a new list does not change the content of first list. First `l1` and `l2` were name of list object with content `['old', 'list']` but now `l2` is name of list object with content `['new', 'list']`. This has no effect on `l1` whatsoever."
      ]
    },
    {
      "cell_type": "markdown",
      "metadata": {
        "id": "21brl5em4Te_",
        "colab_type": "text"
      },
      "source": [
        "#### Q2"
      ]
    },
    {
      "cell_type": "markdown",
      "metadata": {
        "id": "SpSVlmpA4TfB",
        "colab_type": "text"
      },
      "source": [
        "Consider an nxn chess board where each row has two pawns at locations specified by a list of tuples named positions.<br> Each tuple in positions is of length 2, specifying the two positions in each row where the two pawns are located.<br> Assume that the positions are numbered from 0 and the first entry in each tuple is smaller than the second.<br> All other locations in the chess board are empty. Write a python function that takes positions as an argument and outputs the chess board in a pretty way: Each row on the screen corresponds to a row on the chess board. Pawns are shown with an X and empty squares with a dot ‘.’"
      ]
    },
    {
      "cell_type": "code",
      "metadata": {
        "id": "XlKP6n0J4TfC",
        "colab_type": "code",
        "colab": {}
      },
      "source": [
        ""
      ],
      "execution_count": 0,
      "outputs": []
    },
    {
      "cell_type": "code",
      "metadata": {
        "id": "XCZYjOVIaQnU",
        "colab_type": "code",
        "colab": {}
      },
      "source": [
        ""
      ],
      "execution_count": 0,
      "outputs": []
    },
    {
      "cell_type": "code",
      "metadata": {
        "id": "Q5B0aFrAaQxF",
        "colab_type": "code",
        "colab": {}
      },
      "source": [
        ""
      ],
      "execution_count": 0,
      "outputs": []
    },
    {
      "cell_type": "code",
      "metadata": {
        "id": "I20vJjZsaQ0n",
        "colab_type": "code",
        "colab": {}
      },
      "source": [
        ""
      ],
      "execution_count": 0,
      "outputs": []
    },
    {
      "cell_type": "code",
      "metadata": {
        "id": "WtPZpzEIaRBv",
        "colab_type": "code",
        "colab": {}
      },
      "source": [
        ""
      ],
      "execution_count": 0,
      "outputs": []
    },
    {
      "cell_type": "code",
      "metadata": {
        "id": "LB_19XEeaRJh",
        "colab_type": "code",
        "colab": {}
      },
      "source": [
        ""
      ],
      "execution_count": 0,
      "outputs": []
    },
    {
      "cell_type": "code",
      "metadata": {
        "id": "mtfO34reaRNJ",
        "colab_type": "code",
        "colab": {}
      },
      "source": [
        ""
      ],
      "execution_count": 0,
      "outputs": []
    }
  ]
}